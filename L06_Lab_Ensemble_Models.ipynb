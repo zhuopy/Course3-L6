{
 "cells": [
  {
   "cell_type": "markdown",
   "metadata": {},
   "source": [
    "### Read Data into Pandas Data Frames"
   ]
  },
  {
   "cell_type": "code",
   "execution_count": 2,
   "metadata": {},
   "outputs": [
    {
     "data": {
      "text/html": [
       "<div>\n",
       "<style scoped>\n",
       "    .dataframe tbody tr th:only-of-type {\n",
       "        vertical-align: middle;\n",
       "    }\n",
       "\n",
       "    .dataframe tbody tr th {\n",
       "        vertical-align: top;\n",
       "    }\n",
       "\n",
       "    .dataframe thead th {\n",
       "        text-align: right;\n",
       "    }\n",
       "</style>\n",
       "<table border=\"1\" class=\"dataframe\">\n",
       "  <thead>\n",
       "    <tr style=\"text-align: right;\">\n",
       "      <th></th>\n",
       "      <th>age</th>\n",
       "      <th>workclass</th>\n",
       "      <th>fnlwgt</th>\n",
       "      <th>education</th>\n",
       "      <th>education_num</th>\n",
       "      <th>marital-status</th>\n",
       "      <th>occupation</th>\n",
       "      <th>relationship</th>\n",
       "      <th>race</th>\n",
       "      <th>sex</th>\n",
       "      <th>capital_gain</th>\n",
       "      <th>capital_loss</th>\n",
       "      <th>hours_per_week</th>\n",
       "      <th>native_country</th>\n",
       "      <th>income</th>\n",
       "    </tr>\n",
       "  </thead>\n",
       "  <tbody>\n",
       "    <tr>\n",
       "      <th>0</th>\n",
       "      <td>39</td>\n",
       "      <td>State-gov</td>\n",
       "      <td>77516</td>\n",
       "      <td>Bachelors</td>\n",
       "      <td>13</td>\n",
       "      <td>Never-married</td>\n",
       "      <td>Adm-clerical</td>\n",
       "      <td>Not-in-family</td>\n",
       "      <td>White</td>\n",
       "      <td>Male</td>\n",
       "      <td>2174</td>\n",
       "      <td>0</td>\n",
       "      <td>40</td>\n",
       "      <td>United-States</td>\n",
       "      <td>&lt;=50K</td>\n",
       "    </tr>\n",
       "    <tr>\n",
       "      <th>1</th>\n",
       "      <td>50</td>\n",
       "      <td>Self-emp-not-inc</td>\n",
       "      <td>83311</td>\n",
       "      <td>Bachelors</td>\n",
       "      <td>13</td>\n",
       "      <td>Married-civ-spouse</td>\n",
       "      <td>Exec-managerial</td>\n",
       "      <td>Husband</td>\n",
       "      <td>White</td>\n",
       "      <td>Male</td>\n",
       "      <td>0</td>\n",
       "      <td>0</td>\n",
       "      <td>13</td>\n",
       "      <td>United-States</td>\n",
       "      <td>&lt;=50K</td>\n",
       "    </tr>\n",
       "    <tr>\n",
       "      <th>2</th>\n",
       "      <td>38</td>\n",
       "      <td>Private</td>\n",
       "      <td>215646</td>\n",
       "      <td>HS-grad</td>\n",
       "      <td>9</td>\n",
       "      <td>Divorced</td>\n",
       "      <td>Handlers-cleaners</td>\n",
       "      <td>Not-in-family</td>\n",
       "      <td>White</td>\n",
       "      <td>Male</td>\n",
       "      <td>0</td>\n",
       "      <td>0</td>\n",
       "      <td>40</td>\n",
       "      <td>United-States</td>\n",
       "      <td>&lt;=50K</td>\n",
       "    </tr>\n",
       "    <tr>\n",
       "      <th>3</th>\n",
       "      <td>53</td>\n",
       "      <td>Private</td>\n",
       "      <td>234721</td>\n",
       "      <td>11th</td>\n",
       "      <td>7</td>\n",
       "      <td>Married-civ-spouse</td>\n",
       "      <td>Handlers-cleaners</td>\n",
       "      <td>Husband</td>\n",
       "      <td>Black</td>\n",
       "      <td>Male</td>\n",
       "      <td>0</td>\n",
       "      <td>0</td>\n",
       "      <td>40</td>\n",
       "      <td>United-States</td>\n",
       "      <td>&lt;=50K</td>\n",
       "    </tr>\n",
       "    <tr>\n",
       "      <th>4</th>\n",
       "      <td>28</td>\n",
       "      <td>Private</td>\n",
       "      <td>338409</td>\n",
       "      <td>Bachelors</td>\n",
       "      <td>13</td>\n",
       "      <td>Married-civ-spouse</td>\n",
       "      <td>Prof-specialty</td>\n",
       "      <td>Wife</td>\n",
       "      <td>Black</td>\n",
       "      <td>Female</td>\n",
       "      <td>0</td>\n",
       "      <td>0</td>\n",
       "      <td>40</td>\n",
       "      <td>Cuba</td>\n",
       "      <td>&lt;=50K</td>\n",
       "    </tr>\n",
       "  </tbody>\n",
       "</table>\n",
       "</div>"
      ],
      "text/plain": [
       "   age          workclass  fnlwgt   education  education_num  \\\n",
       "0   39          State-gov   77516   Bachelors             13   \n",
       "1   50   Self-emp-not-inc   83311   Bachelors             13   \n",
       "2   38            Private  215646     HS-grad              9   \n",
       "3   53            Private  234721        11th              7   \n",
       "4   28            Private  338409   Bachelors             13   \n",
       "\n",
       "        marital-status          occupation    relationship    race      sex  \\\n",
       "0        Never-married        Adm-clerical   Not-in-family   White     Male   \n",
       "1   Married-civ-spouse     Exec-managerial         Husband   White     Male   \n",
       "2             Divorced   Handlers-cleaners   Not-in-family   White     Male   \n",
       "3   Married-civ-spouse   Handlers-cleaners         Husband   Black     Male   \n",
       "4   Married-civ-spouse      Prof-specialty            Wife   Black   Female   \n",
       "\n",
       "   capital_gain  capital_loss  hours_per_week  native_country  income  \n",
       "0          2174             0              40   United-States   <=50K  \n",
       "1             0             0              13   United-States   <=50K  \n",
       "2             0             0              40   United-States   <=50K  \n",
       "3             0             0              40   United-States   <=50K  \n",
       "4             0             0              40            Cuba   <=50K  "
      ]
     },
     "execution_count": 2,
     "metadata": {},
     "output_type": "execute_result"
    }
   ],
   "source": [
    "trainFile = \"adult_train.csv\" #Change it to your local directory\n",
    "testFile = \"adult_test.csv\"\n",
    "\n",
    "import pandas as pd\n",
    "trainData = pd.read_csv(trainFile, sep=\",\", header=0)\n",
    "testData = pd.read_csv(testFile, sep=\",\", header=0)\n",
    "trainData.head()"
   ]
  },
  {
   "cell_type": "markdown",
   "metadata": {},
   "source": [
    "### Get X and Y from Training Data"
   ]
  },
  {
   "cell_type": "code",
   "execution_count": 22,
   "metadata": {},
   "outputs": [],
   "source": [
    "X1 = trainData.iloc[:, 0:14]\n",
    "X2 = testData.iloc[:, 0:14]\n",
    "Y1 = trainData.iloc[:, 14]\n",
    "Y2 = testData.iloc[:, 14]\n",
    "frames = [X1, X2]\n",
    "X = pd.concat(frames)\n",
    "\n",
    "import category_encoders as ce\n",
    "le =  ce.OneHotEncoder(return_df=False,handle_missing=False,handle_unknown=\"ignore\")\n",
    "X_encoded = le.fit_transform(X)\n",
    "X_encoded_train = X_encoded[0:X1.shape[0], :]\n",
    "X_encoded_test = X_encoded[X1.shape[0]:X_encoded.shape[0], :]"
   ]
  },
  {
   "cell_type": "markdown",
   "metadata": {},
   "source": [
    "### Section 2. Train the Random Forest Model"
   ]
  },
  {
   "cell_type": "code",
   "execution_count": 5,
   "metadata": {},
   "outputs": [
    {
     "name": "stdout",
     "output_type": "stream",
     "text": [
      "[8.45965433e-02 7.20688576e-05 1.10168581e-03 7.46543676e-04\n",
      " 1.33513848e-04 3.83428655e-04 1.01425311e-03 3.50299037e-03\n",
      " 0.00000000e+00 0.00000000e+00 0.00000000e+00 8.79059825e-04\n",
      " 2.75225977e-02 1.19961612e-02 1.89666472e-03 1.58433586e-02\n",
      " 1.78567979e-04 3.55256721e-04 8.66128502e-05 6.13527237e-05\n",
      " 1.29263193e-03 2.44223206e-03 8.30664122e-03 1.30000061e-04\n",
      " 1.03505638e-03 0.00000000e+00 0.00000000e+00 4.23358115e-05\n",
      " 0.00000000e+00 7.25599956e-02 9.54802375e-02 1.45652824e-01\n",
      " 1.24680922e-02 1.55132858e-04 7.30476903e-04 7.39613800e-05\n",
      " 1.21532931e-04 0.00000000e+00 8.83823508e-04 2.32729249e-02\n",
      " 1.42285165e-03 2.12986613e-02 8.36281356e-03 1.01598938e-04\n",
      " 7.53331676e-04 4.73953280e-04 1.32101521e-03 5.77091028e-04\n",
      " 2.63999652e-04 4.83630677e-04 2.30326763e-05 0.00000000e+00\n",
      " 4.19594458e-06 0.00000000e+00 2.30207139e-02 1.20185043e-01\n",
      " 1.68251280e-02 2.04180132e-02 7.42462852e-03 1.43613835e-03\n",
      " 0.00000000e+00 9.29931000e-04 5.76700993e-04 1.56562344e-04\n",
      " 7.72657279e-06 5.83902965e-05 0.00000000e+00 2.66523833e-02\n",
      " 2.24175801e-02 0.00000000e+00 1.36752025e-01 2.80773321e-02\n",
      " 4.37793324e-02 1.03802643e-04 0.00000000e+00 0.00000000e+00\n",
      " 1.81526008e-05 2.44490066e-05 7.42636779e-04 5.14453106e-06\n",
      " 8.19794247e-06 0.00000000e+00 3.63377001e-05 2.18727647e-05\n",
      " 1.81768777e-05 0.00000000e+00 3.71446958e-05 5.29626898e-05\n",
      " 0.00000000e+00 0.00000000e+00 0.00000000e+00 0.00000000e+00\n",
      " 0.00000000e+00 0.00000000e+00 1.14234840e-05 0.00000000e+00\n",
      " 0.00000000e+00 3.50105659e-06 1.24358570e-05 5.11012389e-06\n",
      " 6.28067158e-06 1.42211629e-05 5.10072718e-05 0.00000000e+00\n",
      " 0.00000000e+00 0.00000000e+00 0.00000000e+00 0.00000000e+00\n",
      " 0.00000000e+00 0.00000000e+00 4.77745138e-06 0.00000000e+00\n",
      " 0.00000000e+00 0.00000000e+00 0.00000000e+00 0.00000000e+00]\n"
     ]
    }
   ],
   "source": [
    "nTrees = 100\n",
    "max_depth = 5\n",
    "min_node_size = 5\n",
    "verbose = 0\n",
    "\n",
    "from sklearn.ensemble import RandomForestClassifier\n",
    "\n",
    "clf = RandomForestClassifier(n_estimators=nTrees, max_depth=max_depth, random_state=0, verbose=verbose, min_samples_leaf=min_node_size)\n",
    "clf.fit(X_encoded_train, Y1)\n",
    "print(clf.feature_importances_)"
   ]
  },
  {
   "cell_type": "markdown",
   "metadata": {},
   "source": [
    "### Predict the Testing Data and Evaluate"
   ]
  },
  {
   "cell_type": "code",
   "execution_count": 6,
   "metadata": {},
   "outputs": [
    {
     "name": "stdout",
     "output_type": "stream",
     "text": [
      "Accuracy on Testing Data = 83.90%\n"
     ]
    }
   ],
   "source": [
    "import numpy as np\n",
    "Y_test_hat = clf.predict(X_encoded_test)\n",
    "Accuracy = [1 for i in range(len(Y_test_hat)) if Y2.iloc[i] == Y_test_hat[i]]\n",
    "Accuracy = round(float(np.sum(Accuracy))/len(Y_test_hat)*100,2)\n",
    "print(\"Accuracy on Testing Data = %.2f%%\"%Accuracy)"
   ]
  },
  {
   "cell_type": "markdown",
   "metadata": {
    "collapsed": true
   },
   "source": [
    "### Section 3. Train the Gradient Boosted Decision Trees Model"
   ]
  },
  {
   "cell_type": "code",
   "execution_count": 7,
   "metadata": {},
   "outputs": [
    {
     "name": "stdout",
     "output_type": "stream",
     "text": [
      "[5.42195003e-02 6.88439696e-05 5.35416177e-03 3.60576568e-04\n",
      " 2.07578129e-03 1.17409449e-03 3.57472488e-05 5.69301701e-04\n",
      " 0.00000000e+00 0.00000000e+00 0.00000000e+00 5.41859106e-03\n",
      " 6.74204489e-04 7.26875526e-05 0.00000000e+00 4.27474625e-04\n",
      " 0.00000000e+00 1.12505730e-04 0.00000000e+00 6.10943699e-05\n",
      " 0.00000000e+00 1.52853197e-04 2.70139994e-04 0.00000000e+00\n",
      " 1.02637365e-04 0.00000000e+00 0.00000000e+00 0.00000000e+00\n",
      " 0.00000000e+00 1.98090164e-01 8.26087089e-04 3.80540283e-01\n",
      " 2.77608240e-05 3.66837707e-06 2.01797677e-05 6.98037209e-04\n",
      " 1.49745083e-05 0.00000000e+00 4.34720243e-04 1.62872011e-02\n",
      " 3.52132487e-04 8.62100835e-03 4.83439327e-03 1.72995050e-03\n",
      " 3.08963762e-05 2.21652185e-04 4.76082668e-03 8.38525992e-05\n",
      " 2.87937086e-03 1.60991405e-05 7.76673765e-04 0.00000000e+00\n",
      " 0.00000000e+00 0.00000000e+00 5.58128228e-04 7.25029414e-04\n",
      " 4.48240507e-03 3.21519325e-04 2.86241179e-04 1.84133879e-04\n",
      " 0.00000000e+00 5.22238971e-04 2.80660872e-04 4.30762281e-05\n",
      " 7.40982153e-05 0.00000000e+00 0.00000000e+00 1.98832824e-03\n",
      " 1.48599217e-03 0.00000000e+00 1.99066187e-01 6.26461621e-02\n",
      " 3.35960138e-02 5.48612255e-04 7.25249475e-05 0.00000000e+00\n",
      " 1.83415623e-05 1.38594506e-04 1.76753173e-06 8.62643266e-05\n",
      " 0.00000000e+00 0.00000000e+00 0.00000000e+00 4.50152201e-05\n",
      " 1.10602226e-05 0.00000000e+00 1.80049829e-04 1.37049225e-04\n",
      " 0.00000000e+00 0.00000000e+00 4.64856577e-05 0.00000000e+00\n",
      " 0.00000000e+00 0.00000000e+00 0.00000000e+00 0.00000000e+00\n",
      " 0.00000000e+00 0.00000000e+00 0.00000000e+00 0.00000000e+00\n",
      " 5.17247422e-06 0.00000000e+00 4.87191313e-05 0.00000000e+00\n",
      " 0.00000000e+00 0.00000000e+00 0.00000000e+00 0.00000000e+00\n",
      " 0.00000000e+00 0.00000000e+00 0.00000000e+00 0.00000000e+00\n",
      " 0.00000000e+00 0.00000000e+00 0.00000000e+00 0.00000000e+00]\n"
     ]
    }
   ],
   "source": [
    "nTrees = 100\n",
    "max_depth = 5\n",
    "min_node_size = 5\n",
    "verbose = 0\n",
    "learning_rate = 0.05\n",
    "\n",
    "from sklearn.ensemble import GradientBoostingClassifier\n",
    "gbm_clf = GradientBoostingClassifier(n_estimators=nTrees, loss='deviance', learning_rate=learning_rate, max_depth=max_depth, \\\n",
    "                                    min_samples_leaf=min_node_size)\n",
    "gbm_clf.fit(X_encoded_train, Y1)\n",
    "print(gbm_clf.feature_importances_)"
   ]
  },
  {
   "cell_type": "markdown",
   "metadata": {},
   "source": [
    "### Predict the Testing Data and Evaluate"
   ]
  },
  {
   "cell_type": "code",
   "execution_count": 8,
   "metadata": {},
   "outputs": [
    {
     "name": "stdout",
     "output_type": "stream",
     "text": [
      "Accuracy on Testing Data = 87.26%\n"
     ]
    }
   ],
   "source": [
    "import numpy as np\n",
    "Y_test_hat = gbm_clf.predict(X_encoded_test)\n",
    "Accuracy = [1 for i in range(len(Y_test_hat)) if Y2.iloc[i] == Y_test_hat[i]]\n",
    "Accuracy = round(float(np.sum(Accuracy))/len(Y_test_hat)*100,2)\n",
    "print(\"Accuracy on Testing Data = %.2f%%\"%Accuracy)"
   ]
  },
  {
   "cell_type": "code",
   "execution_count": null,
   "metadata": {},
   "outputs": [],
   "source": []
  }
 ],
 "metadata": {
  "anaconda-cloud": {},
  "kernelspec": {
   "display_name": "Python 3",
   "language": "python",
   "name": "python3"
  },
  "language_info": {
   "codemirror_mode": {
    "name": "ipython",
    "version": 3
   },
   "file_extension": ".py",
   "mimetype": "text/x-python",
   "name": "python",
   "nbconvert_exporter": "python",
   "pygments_lexer": "ipython3",
   "version": "3.7.6"
  }
 },
 "nbformat": 4,
 "nbformat_minor": 1
}
